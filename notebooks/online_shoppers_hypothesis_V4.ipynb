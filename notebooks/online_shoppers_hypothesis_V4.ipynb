{
 "cells": [
  {
   "cell_type": "code",
   "execution_count": 7,
   "id": "7565343d",
   "metadata": {},
   "outputs": [],
   "source": [
    "import pandas as pd\n",
    "import numpy as np\n",
    "df = pd.read_csv('online_shoppers_enriched_V4.csv')"
   ]
  },
  {
   "cell_type": "code",
   "execution_count": 8,
   "id": "1aaf59ca",
   "metadata": {},
   "outputs": [
    {
     "name": "stdout",
     "output_type": "stream",
     "text": [
      "\n",
      "T-TESTS: Do means differ between buyers and non-buyers?\n",
      "\n",
      "Engagement_Score: t=0.01, p=0.9893, buyers mean=18.14, non-buyers mean=18.12\n",
      "Avg_Time_Per_Page: t=-1.68, p=0.0955, buyers mean=31.01, non-buyers mean=34.64\n",
      "Product_Ratio: t=-6.43, p=0.0000, buyers mean=0.79, non-buyers mean=0.92\n",
      "BounceRates: t=-2.30, p=0.0227, buyers mean=0.01, non-buyers mean=0.01\n",
      "ExitRates: t=-0.20, p=0.8453, buyers mean=0.03, non-buyers mean=0.03\n"
     ]
    }
   ],
   "source": [
    "from scipy.stats import ttest_ind\n",
    "\n",
    "print(\"\\nT-TESTS: Do means differ between buyers and non-buyers?\\n\")\n",
    "for feature in ['Engagement_Score', 'Avg_Time_Per_Page', 'Product_Ratio', 'BounceRates', 'ExitRates']:\n",
    "    buyers = df[df['Revenue']==1][feature]\n",
    "    nonbuyers = df[df['Revenue']==0][feature]\n",
    "    stat, pval = ttest_ind(buyers, nonbuyers, equal_var=False)\n",
    "    print(f\"{feature}: t={stat:.2f}, p={pval:.4f}, buyers mean={buyers.mean():.2f}, non-buyers mean={nonbuyers.mean():.2f}\")\n"
   ]
  },
  {
   "cell_type": "code",
   "execution_count": 9,
   "id": "9ab2820f",
   "metadata": {},
   "outputs": [
    {
     "name": "stdout",
     "output_type": "stream",
     "text": [
      "\n",
      "CHI-SQUARE TEST: Is_Returning vs Revenue: chi2=47.91, p=0.0000\n",
      "CHI-SQUARE TEST: Weekend vs Revenue: chi2=5.62, p=0.0177\n"
     ]
    }
   ],
   "source": [
    "from scipy.stats import chi2_contingency\n",
    "\n",
    "# Returning visitor vs Revenue\n",
    "table = pd.crosstab(df['Is_Returning'], df['Revenue'])\n",
    "chi2, p, dof, expected = chi2_contingency(table)\n",
    "print(f\"\\nCHI-SQUARE TEST: Is_Returning vs Revenue: chi2={chi2:.2f}, p={p:.4f}\")\n",
    "\n",
    "# Weekend vs Revenue\n",
    "table2 = pd.crosstab(df['Weekend'], df['Revenue'])\n",
    "chi2, p, dof, expected = chi2_contingency(table2)\n",
    "print(f\"CHI-SQUARE TEST: Weekend vs Revenue: chi2={chi2:.2f}, p={p:.4f}\")\n"
   ]
  },
  {
   "cell_type": "code",
   "execution_count": 10,
   "id": "4202f98a",
   "metadata": {},
   "outputs": [
    {
     "name": "stdout",
     "output_type": "stream",
     "text": [
      "ANOVA for conversion by month:\n",
      "              sum_sq      df          F        PR(>F)\n",
      "C(Month)    6.944418     9.0  26.050044  2.133423e-44\n",
      "Residual  153.757370  5191.0        NaN           NaN\n",
      "\n",
      "ANOVA for conversion by month:\n",
      "               sum_sq      df          F        PR(>F)\n",
      "C(Month)    6.944418     9.0  26.050044  2.133423e-44\n",
      "Residual  153.757370  5191.0        NaN           NaN\n"
     ]
    }
   ],
   "source": [
    "import statsmodels.api as sm\n",
    "from statsmodels.formula.api import ols\n",
    "\n",
    "# Ensure Revenue is int (0 or 1)\n",
    "df['Revenue'] = df['Revenue'].astype(int)\n",
    "\n",
    "anova = ols('Revenue ~ C(Month)', data=df).fit()\n",
    "anova_table = sm.stats.anova_lm(anova, typ=2)\n",
    "print(\"ANOVA for conversion by month:\")\n",
    "print(anova_table)\n",
    "\n",
    "\n",
    "anova = ols('Revenue ~ C(Month)', data=df).fit()\n",
    "anova_table = sm.stats.anova_lm(anova, typ=2)\n",
    "print(\"\\nANOVA for conversion by month:\\n\", anova_table)\n"
   ]
  },
  {
   "cell_type": "code",
   "execution_count": 11,
   "id": "32e43607",
   "metadata": {},
   "outputs": [
    {
     "name": "stdout",
     "output_type": "stream",
     "text": [
      "Chi-square: 51.29, p-value: 0.0000\n"
     ]
    }
   ],
   "source": [
    "import pandas as pd\n",
    "from scipy.stats import chi2_contingency\n",
    "\n",
    "# Create contingency table\n",
    "table = pd.crosstab(df['VisitorType'], df['Revenue'])\n",
    "\n",
    "# Chi-square test\n",
    "chi2, p, dof, expected = chi2_contingency(table)\n",
    "print(f\"Chi-square: {chi2:.2f}, p-value: {p:.4f}\")\n"
   ]
  }
 ],
 "metadata": {
  "kernelspec": {
   "display_name": "base",
   "language": "python",
   "name": "python3"
  },
  "language_info": {
   "codemirror_mode": {
    "name": "ipython",
    "version": 3
   },
   "file_extension": ".py",
   "mimetype": "text/x-python",
   "name": "python",
   "nbconvert_exporter": "python",
   "pygments_lexer": "ipython3",
   "version": "3.12.4"
  }
 },
 "nbformat": 4,
 "nbformat_minor": 5
}
