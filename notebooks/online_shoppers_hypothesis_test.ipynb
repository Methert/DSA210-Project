{
 "cells": [
  {
   "cell_type": "code",
   "execution_count": 24,
   "id": "b6ed079f",
   "metadata": {},
   "outputs": [],
   "source": [
    "import pandas as pd\n",
    "from scipy import stats\n",
    "import numpy as np\n",
    "\n",
    "shoppers_data = pd.read_csv('enriched_shoppers_data.csv')"
   ]
  },
  {
   "cell_type": "code",
   "execution_count": 25,
   "id": "b736af0b",
   "metadata": {},
   "outputs": [
    {
     "name": "stdout",
     "output_type": "stream",
     "text": [
      "Z-Stat: 3.063, p-value: 0.0022\n",
      "Z-Stat: 3.063, p-value: 0.0022\n"
     ]
    }
   ],
   "source": [
    "# A/B test for weekend vs weekday shoppers\n",
    "\n",
    "# Weekend vs Weekday Conversion Rate\n",
    "weekend = shoppers_data[shoppers_data['Weekend'] == True]\n",
    "weekday = shoppers_data[shoppers_data['Weekend'] == False]\n",
    "\n",
    "# Success counts\n",
    "success_weekend = weekend['Revenue'].sum()\n",
    "success_weekday = weekday['Revenue'].sum()\n",
    "\n",
    "# Sample sizes\n",
    "n_weekend = len(weekend)\n",
    "n_weekday = len(weekday)\n",
    "\n",
    "# Proportion test\n",
    "z_stat, p_value = proportions_ztest(\n",
    "    count=[success_weekend, success_weekday],\n",
    "    nobs=[n_weekend, n_weekday]\n",
    ")\n",
    "\n",
    "print(f\"Z-Stat: {z_stat:.3f}, p-value: {p_value:.4f}\")\n",
    "\n",
    "\n",
    "weekend = shoppers_data[shoppers_data['Weekend'] == True]\n",
    "weekday = shoppers_data[shoppers_data['Weekend'] == False]\n",
    "\n",
    "# Success counts\n",
    "success_weekend = weekend['Revenue'].sum()\n",
    "success_weekday = weekday['Revenue'].sum()\n",
    "\n",
    "# Sample sizes\n",
    "n_weekend = len(weekend)\n",
    "n_weekday = len(weekday)\n",
    "\n",
    "# Proportion test\n",
    "z_stat, p_value = proportions_ztest(\n",
    "    count=[success_weekend, success_weekday],\n",
    "    nobs=[n_weekend, n_weekday]\n",
    ")\n",
    "\n",
    "print(f\"Z-Stat: {z_stat:.3f}, p-value: {p_value:.4f}\")\n"
   ]
  },
  {
   "cell_type": "code",
   "execution_count": 26,
   "id": "38470b4e",
   "metadata": {},
   "outputs": [
    {
     "name": "stdout",
     "output_type": "stream",
     "text": [
      "T-Statistic: -32.687, p-value: 0.0000\n"
     ]
    }
   ],
   "source": [
    "# Bounce Rates by Conversion – t-Test\n",
    "converted = shoppers_data[shoppers_data['Revenue'] == True]['BounceRates']\n",
    "non_converted = shoppers_data[shoppers_data['Revenue'] == False]['BounceRates']\n",
    "\n",
    "t_stat, p_val = stats.ttest_ind(converted, non_converted, equal_var=False)\n",
    "print(f\"T-Statistic: {t_stat:.3f}, p-value: {p_val:.4f}\")\n"
   ]
  },
  {
   "cell_type": "code",
   "execution_count": 27,
   "id": "2aacf219",
   "metadata": {},
   "outputs": [
    {
     "name": "stdout",
     "output_type": "stream",
     "text": [
      "F-statistic: 1.761, p-value: 0.1523\n"
     ]
    }
   ],
   "source": [
    "#Conversion Rate by Interest Category – ANOVA\n",
    "groups = [group['Revenue'] for name, group in shoppers_data.groupby('interest_category')]\n",
    "f_stat, p_val = stats.f_oneway(*groups)\n",
    "print(f\"F-statistic: {f_stat:.3f}, p-value: {p_val:.4f}\")\n"
   ]
  },
  {
   "cell_type": "code",
   "execution_count": 28,
   "id": "6284be4f",
   "metadata": {},
   "outputs": [
    {
     "name": "stdout",
     "output_type": "stream",
     "text": [
      "T-Statistic: 14.706, p-value: 0.0000\n"
     ]
    }
   ],
   "source": [
    "#Engagement Score vs Revenue – t-Test\n",
    "engaged = shoppers_data[shoppers_data['Revenue'] == True]['engagement_score']\n",
    "not_engaged = shoppers_data[shoppers_data['Revenue'] == False]['engagement_score']\n",
    "\n",
    "t_stat, p_val = stats.ttest_ind(engaged, not_engaged, equal_var=False)\n",
    "print(f\"T-Statistic: {t_stat:.3f}, p-value: {p_val:.4f}\")\n"
   ]
  },
  {
   "cell_type": "markdown",
   "id": "9b49a9a0",
   "metadata": {},
   "source": [
    "1) Weekend vs Weekday Conversion – A/B Test (Z-Test)\n",
    "I compared the conversion rates between users who visited the site on weekends and those who visited during weekdays. The p-value was 0.0022, which is below the standard 0.05 threshold for significance.\n",
    "\n",
    "Interpretation:\n",
    "This means that weekend visitors are significantly more likely to make a purchase compared to weekday visitors. Although the difference in proportions isn't huge, it is statistically meaningful.\n",
    "\n",
    "2) Bounce Rates and Conversion – Two-Sample t-Test\n",
    "Next, I compared the average bounce rates of users who converted (made a purchase) and those who didn’t. The p-value was 0.0000, indicating an extremely significant result.\n",
    "\n",
    "Interpretation:\n",
    "Users who made a purchase had significantly lower bounce rates than those who did not. This confirms that a high bounce rate is a strong negative signal for purchase intent.\n",
    "\n",
    "3) Conversion by Interest Category – ANOVA\n",
    "I used a one-way ANOVA test to compare conversion rates across different interest categories (e.g., Product-Focused, Research-Oriented, Balanced Shoppers). The p-value was 0.1523, which is above 0.05.\n",
    "\n",
    "Interpretation:\n",
    "Although some trends were visible in the exploratory analysis, the differences between interest categories were not statistically significant. This suggests that user interest types alone may not strongly predict conversion on their own.\n",
    "\n",
    "4) Engagement Score and Conversion – Two-Sample t-Test\n",
    "Finally, I tested whether engagement scores differed between users who converted and those who did not. The p-value was again 0.0000, showing a highly significant difference.\n",
    "\n",
    "Interpretation:\n",
    "Users with higher engagement scores were much more likely to convert. This supports the idea that the engagement metric I designed is a meaningful predictor of conversion behavior.\n",
    "\n",
    "5) Summary\n",
    "Out of the four tests, three produced statistically significant results:\n",
    "\n",
    "Conversion rates are higher on weekends,\n",
    "\n",
    "Users who bounce less convert more,\n",
    "\n",
    "Higher engagement scores are linked to conversions.\n",
    "\n",
    "The only non-significant result was the difference across interest categories. Overall, the tests validate several behavioral features introduced during feature engineering and support their use in building predictive models in the next phase of the project.\n"
   ]
  }
 ],
 "metadata": {
  "kernelspec": {
   "display_name": "base",
   "language": "python",
   "name": "python3"
  },
  "language_info": {
   "codemirror_mode": {
    "name": "ipython",
    "version": 3
   },
   "file_extension": ".py",
   "mimetype": "text/x-python",
   "name": "python",
   "nbconvert_exporter": "python",
   "pygments_lexer": "ipython3",
   "version": "3.12.4"
  }
 },
 "nbformat": 4,
 "nbformat_minor": 5
}
