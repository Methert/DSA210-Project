{
 "cells": [
  {
   "cell_type": "code",
   "execution_count": 1,
   "id": "fabd66b8",
   "metadata": {},
   "outputs": [
    {
     "name": "stdout",
     "output_type": "stream",
     "text": [
      "Enriched data saved as 'online_shoppers_enriched_V4.csv'.\n"
     ]
    }
   ],
   "source": [
    "import pandas as pd\n",
    "import numpy as np\n",
    "\n",
    "df = pd.read_csv('online_shoppers_cleaned_V4.csv')\n",
    "\n",
    "# 1. Total pages and duration\n",
    "df['Total_Pages'] = df['Administrative'] + df['Informational'] + df['ProductRelated']\n",
    "df['Total_Duration'] = (\n",
    "    df['Administrative_Duration'] + df['Informational_Duration'] + df['ProductRelated_Duration']\n",
    ")\n",
    "\n",
    "# 2. Engagement Score (total pages for simplicity)\n",
    "df['Engagement_Score'] = df['Total_Pages']\n",
    "\n",
    "# 3. Product page focus ratio\n",
    "df['Product_Ratio'] = df['ProductRelated'] / df['Total_Pages']\n",
    "df['Product_Ratio'] = df['Product_Ratio'].replace([np.inf, -np.inf], 0).fillna(0)\n",
    "\n",
    "# 4. Average time per page\n",
    "df['Avg_Time_Per_Page'] = df['Total_Duration'] / df['Total_Pages']\n",
    "df['Avg_Time_Per_Page'] = df['Avg_Time_Per_Page'].replace([np.inf, -np.inf], 0).fillna(0)\n",
    "\n",
    "# 5. Is Returning Visitor (1/0)\n",
    "df['Is_Returning'] = (df['VisitorType'] == 'Returning_Visitor').astype(int)\n",
    "\n",
    "# Save the enriched data\n",
    "df.to_csv('online_shoppers_enriched_V4.csv', index=False)\n",
    "print(\"Enriched data saved as 'online_shoppers_enriched_V4.csv'.\")"
   ]
  }
 ],
 "metadata": {
  "kernelspec": {
   "display_name": "base",
   "language": "python",
   "name": "python3"
  },
  "language_info": {
   "codemirror_mode": {
    "name": "ipython",
    "version": 3
   },
   "file_extension": ".py",
   "mimetype": "text/x-python",
   "name": "python",
   "nbconvert_exporter": "python",
   "pygments_lexer": "ipython3",
   "version": "3.12.4"
  }
 },
 "nbformat": 4,
 "nbformat_minor": 5
}
