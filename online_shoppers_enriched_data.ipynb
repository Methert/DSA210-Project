{
 "cells": [
  {
   "cell_type": "code",
   "execution_count": 1,
   "id": "1f5867e8",
   "metadata": {},
   "outputs": [
    {
     "name": "stdout",
     "output_type": "stream",
     "text": [
      "1.6.1\n"
     ]
    }
   ],
   "source": [
    "import sklearn\n",
    "print(sklearn.__version__)\n"
   ]
  },
  {
   "cell_type": "code",
   "execution_count": 2,
   "id": "8e91c315",
   "metadata": {},
   "outputs": [
    {
     "name": "stdout",
     "output_type": "stream",
     "text": [
      "Loading online shoppers data...\n",
      "Original dataset shape: (12205, 45)\n"
     ]
    }
   ],
   "source": [
    "import pandas as pd\n",
    "import numpy as np\n",
    "from sklearn.preprocessing import StandardScaler\n",
    "from sklearn.cluster import KMeans\n",
    "\n",
    "# Load dataset\n",
    "print(\"Loading online shoppers data...\")\n",
    "shoppers_data = pd.read_csv('processed_online_shoppers_intention.csv')\n",
    "\n",
    "print(f\"Original dataset shape: {shoppers_data.shape}\")\n",
    "orig_shape = shoppers_data.shape"
   ]
  },
  {
   "cell_type": "code",
   "execution_count": 3,
   "id": "b6c3d593",
   "metadata": {},
   "outputs": [],
   "source": [
    "# Browsing efficiency ratio\n",
    "shoppers_data['browsing_efficiency'] = shoppers_data.apply(\n",
    "    lambda row: row['ProductRelated'] / row['ProductRelated_Duration'] \n",
    "    if row['ProductRelated_Duration'] > 0 else 0,\n",
    "    axis=1\n",
    ")"
   ]
  },
  {
   "cell_type": "code",
   "execution_count": 4,
   "id": "544f2414",
   "metadata": {},
   "outputs": [],
   "source": [
    "# Content-to-product ratio\n",
    "shoppers_data['content_product_ratio'] = shoppers_data.apply(\n",
    "    lambda row: (row['Informational'] + row['Administrative']) / row['ProductRelated'] \n",
    "    if row['ProductRelated'] > 0 else 0,\n",
    "    axis=1\n",
    ")"
   ]
  },
  {
   "cell_type": "code",
   "execution_count": 5,
   "id": "dc49d12b",
   "metadata": {},
   "outputs": [],
   "source": [
    "# Engagement depth score\n",
    "shoppers_data['engagement_depth'] = (\n",
    "    shoppers_data['ProductRelated'] * 1.0 +\n",
    "    shoppers_data['Informational'] * 0.7 +\n",
    "    shoppers_data['Administrative'] * 0.5\n",
    ") / shoppers_data[['ProductRelated', 'Informational', 'Administrative']].sum(axis=1).replace(0, 1)"
   ]
  },
  {
   "cell_type": "code",
   "execution_count": 6,
   "id": "8fafaf16",
   "metadata": {},
   "outputs": [],
   "source": [
    "# Visitor Type Enhancement\n",
    "# Create binary features for visitor types\n",
    "visitor_dummies = pd.get_dummies(shoppers_data['VisitorType'], prefix='visitor')\n",
    "shoppers_data = pd.concat([shoppers_data, visitor_dummies], axis=1)\n",
    "\n",
    "# Loyalty indicator (higher for returning)\n",
    "loyalty_map = {\n",
    "    'Returning_Visitor': 3,\n",
    "    'New_Visitor': 1,\n",
    "    'Other': 2\n",
    "}\n",
    "shoppers_data['loyalty_score'] = shoppers_data['VisitorType'].map(loyalty_map)"
   ]
  },
  {
   "cell_type": "code",
   "execution_count": 7,
   "id": "c8f79ae7",
   "metadata": {},
   "outputs": [],
   "source": [
    "# Page Value Context\n",
    "# Total time spent on site\n",
    "shoppers_data['total_duration'] = (\n",
    "    shoppers_data['Administrative_Duration'] + \n",
    "    shoppers_data['Informational_Duration'] + \n",
    "    shoppers_data['ProductRelated_Duration']\n",
    ")\n",
    "\n",
    "# Total pages viewed\n",
    "shoppers_data['total_pages_viewed'] = (\n",
    "    shoppers_data['Administrative'] + \n",
    "    shoppers_data['Informational'] + \n",
    "    shoppers_data['ProductRelated']\n",
    ")\n",
    "\n",
    "# Normalize page values\n",
    "max_page_value = shoppers_data['PageValues'].max()\n",
    "if max_page_value > 0:\n",
    "    shoppers_data['page_value_norm'] = shoppers_data['PageValues'] / max_page_value\n",
    "else:\n",
    "    shoppers_data['page_value_norm'] = 0\n",
    "\n",
    "# Page value to visit ratio\n",
    "shoppers_data['value_per_page'] = shoppers_data['PageValues'] / shoppers_data['total_pages_viewed'].replace(0, 1)\n",
    "\n",
    "# Value potential (inverse relationship with bounce rate)\n",
    "shoppers_data['value_potential'] = shoppers_data['page_value_norm'] * (1 - shoppers_data['BounceRates'])"
   ]
  },
  {
   "cell_type": "code",
   "execution_count": 8,
   "id": "8fda10bd",
   "metadata": {},
   "outputs": [],
   "source": [
    "# Behavior Clustering\n",
    "# Select features for clustering\n",
    "cluster_features = [\n",
    "    'ProductRelated', 'ProductRelated_Duration',\n",
    "    'BounceRates', 'ExitRates', 'PageValues',\n",
    "    'browsing_efficiency', 'engagement_depth'\n",
    "]\n",
    "\n",
    "# Standardize features\n",
    "scaler = StandardScaler()\n",
    "scaled_features = scaler.fit_transform(shoppers_data[cluster_features])\n",
    "\n",
    "# Apply K-means clustering\n",
    "kmeans = KMeans(n_clusters=4, random_state=42)\n",
    "shoppers_data['behavior_cluster'] = kmeans.fit_predict(scaled_features)\n",
    "\n",
    "# Create cluster descriptions\n",
    "cluster_means = shoppers_data.groupby('behavior_cluster')[cluster_features + ['Revenue']].mean()\n",
    "\n",
    "# Assign meaningful names based on cluster characteristics\n",
    "cluster_names = {}\n",
    "cluster_names[cluster_means['Revenue'].idxmax()] = 'High_Converters'\n",
    "cluster_names[cluster_means['ProductRelated'].idxmax()] = 'Product_Browsers'\n",
    "cluster_names[cluster_means['BounceRates'].idxmax()] = 'Quick_Bouncers'\n",
    "\n",
    "# Fill in any unnamed clusters\n",
    "for i in range(kmeans.n_clusters):\n",
    "    if i not in cluster_names:\n",
    "        cluster_names[i] = f'Cluster_{i}'\n",
    "\n",
    "shoppers_data['behavior_segment'] = shoppers_data['behavior_cluster'].map(cluster_names)"
   ]
  },
  {
   "cell_type": "code",
   "execution_count": 9,
   "id": "99435f1b",
   "metadata": {},
   "outputs": [],
   "source": [
    "# Interest Category Inference\n",
    "# Create interest categories based on browsing behavior patterns\n",
    "def infer_interest_category(row):\n",
    "    admin_ratio = row['Administrative'] / row['total_pages_viewed'] if row['total_pages_viewed'] > 0 else 0\n",
    "    info_ratio = row['Informational'] / row['total_pages_viewed'] if row['total_pages_viewed'] > 0 else 0\n",
    "    product_ratio = row['ProductRelated'] / row['total_pages_viewed'] if row['total_pages_viewed'] > 0 else 0\n",
    "    \n",
    "    if admin_ratio > 0.4:\n",
    "        return 'Service_Oriented'\n",
    "    elif info_ratio > 0.4:\n",
    "        return 'Research_Oriented'\n",
    "    elif product_ratio > 0.8:\n",
    "        return 'Product_Focused'\n",
    "    elif row['BounceRates'] > 0.4:\n",
    "        return 'Casual_Browser'\n",
    "    else:\n",
    "        return 'Balanced_Shopper'\n",
    "\n",
    "shoppers_data['interest_category'] = shoppers_data.apply(infer_interest_category, axis=1)"
   ]
  },
  {
   "cell_type": "code",
   "execution_count": 10,
   "id": "77774345",
   "metadata": {},
   "outputs": [],
   "source": [
    "# Time-based metrics\n",
    "# Average time per page\n",
    "shoppers_data['avg_time_per_page'] = shoppers_data['total_duration'] / shoppers_data['total_pages_viewed'].replace(0, 1)\n",
    "\n",
    "# Time efficiency score (higher means more efficient browsing)\n",
    "shoppers_data['time_efficiency'] = shoppers_data['total_pages_viewed'] / shoppers_data['total_duration'].replace(0, 0.1)\n",
    "\n",
    "# Admin page time per page\n",
    "shoppers_data['admin_time_per_page'] = shoppers_data.apply(\n",
    "    lambda x: x['Administrative_Duration'] / x['Administrative'] if x['Administrative'] > 0 else 0, \n",
    "    axis=1\n",
    ")\n",
    "\n",
    "# Info page time per page\n",
    "shoppers_data['info_time_per_page'] = shoppers_data.apply(\n",
    "    lambda x: x['Informational_Duration'] / x['Informational'] if x['Informational'] > 0 else 0, \n",
    "    axis=1\n",
    ")\n",
    "\n",
    "# Product page time per page\n",
    "shoppers_data['product_time_per_page'] = shoppers_data.apply(\n",
    "    lambda x: x['ProductRelated_Duration'] / x['ProductRelated'] if x['ProductRelated'] > 0 else 0, \n",
    "    axis=1\n",
    ")"
   ]
  },
  {
   "cell_type": "code",
   "execution_count": 11,
   "id": "6402b4e0",
   "metadata": {},
   "outputs": [
    {
     "name": "stdout",
     "output_type": "stream",
     "text": [
      "Enriched dataset shape: (12205, 68)\n",
      "New features added: 23\n",
      "New features added:\n",
      "weekend_multiplier, browsing_efficiency, content_product_ratio, engagement_depth, visitor_Returning_Visitor, visitor_New_Visitor, visitor_Other, loyalty_score, total_duration, total_pages_viewed, page_value_norm, value_per_page, value_potential, behavior_cluster, behavior_segment, interest_category, avg_time_per_page, time_efficiency, admin_time_per_page, info_time_per_page, product_time_per_page, engagement_score, bounce_category, exit_category\n",
      "Enriched dataset saved to 'enriched_shoppers_data.csv'\n"
     ]
    }
   ],
   "source": [
    "# Engagement score\n",
    "# Create a comprehensive engagement score\n",
    "shoppers_data['engagement_score'] = (\n",
    "    shoppers_data['total_duration'] * 0.4 + \n",
    "    shoppers_data['total_pages_viewed'] * 0.4 + \n",
    "    (1 - shoppers_data['BounceRates']) * 0.1 + \n",
    "    (1 - shoppers_data['ExitRates']) * 0.1\n",
    ")\n",
    "\n",
    "# Create bounce categories\n",
    "def categorize_bounce(rate):\n",
    "    if rate < 0.2:\n",
    "        return 'Low'\n",
    "    elif rate < 0.6:\n",
    "        return 'Medium'\n",
    "    else:\n",
    "        return 'High'\n",
    "        \n",
    "shoppers_data['bounce_category'] = shoppers_data['BounceRates'].apply(categorize_bounce)\n",
    "\n",
    "# Create exit rate categories\n",
    "def categorize_exit(rate):\n",
    "    if rate < 0.2:\n",
    "        return 'Low'\n",
    "    elif rate < 0.6:\n",
    "        return 'Medium'\n",
    "    else:\n",
    "        return 'High'\n",
    "        \n",
    "shoppers_data['exit_category'] = shoppers_data['ExitRates'].apply(categorize_exit)\n",
    "\n",
    "# Display summary of enrichment\n",
    "print(f\"Enriched dataset shape: {shoppers_data.shape}\")\n",
    "print(f\"New features added: {shoppers_data.shape[1] - orig_shape[1]}\")\n",
    "\n",
    "# Display list of new features\n",
    "new_features = [\n",
    "    'weekend_multiplier', 'browsing_efficiency', 'content_product_ratio',\n",
    "    'engagement_depth', 'visitor_Returning_Visitor', 'visitor_New_Visitor',\n",
    "    'visitor_Other', 'loyalty_score', 'total_duration', 'total_pages_viewed',\n",
    "    'page_value_norm', 'value_per_page', 'value_potential', 'behavior_cluster',\n",
    "    'behavior_segment', 'interest_category', 'avg_time_per_page',\n",
    "    'time_efficiency', 'admin_time_per_page', 'info_time_per_page',\n",
    "    'product_time_per_page', 'engagement_score', 'bounce_category',\n",
    "    'exit_category'\n",
    "]\n",
    "print(\"New features added:\")\n",
    "print(\", \".join(new_features))\n",
    "\n",
    "# Save to file\n",
    "shoppers_data.to_csv('enriched_shoppers_data.csv', index=False)\n",
    "print(\"Enriched dataset saved to 'enriched_shoppers_data.csv'\")"
   ]
  }
 ],
 "metadata": {
  "kernelspec": {
   "display_name": "base",
   "language": "python",
   "name": "python3"
  },
  "language_info": {
   "codemirror_mode": {
    "name": "ipython",
    "version": 3
   },
   "file_extension": ".py",
   "mimetype": "text/x-python",
   "name": "python",
   "nbconvert_exporter": "python",
   "pygments_lexer": "ipython3",
   "version": "3.12.4"
  }
 },
 "nbformat": 4,
 "nbformat_minor": 5
}
